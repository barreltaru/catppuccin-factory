{
  "nbformat": 4,
  "nbformat_minor": 0,
  "metadata": {
    "colab": {
      "provenance": [],
      "collapsed_sections": [
        "sDL8ZRf15kWl",
        "pnChCkHUDB6h",
        "50Qnp9DjV1Zl"
      ]
    },
    "kernelspec": {
      "name": "python3",
      "display_name": "Python 3"
    },
    "language_info": {
      "name": "python"
    }
  },
  "cells": [
    {
      "cell_type": "markdown",
      "source": [
        "# 🏭 **Catppuccin Factory**\n",
        "\n",
        "This is the Google Colab version of this script: [Fxzzi/catppuccin-factory](https://github.com/Fxzzi/catppuccin-factory/). Credits to [Fxzzi](https://github.com/Fxzzi/).\n",
        "\n",
        "You can also give a star to my repository: [barreltaru/catppuccin-factory](https://github.com/barreltaru/catppuccin-factory/)\n",
        "\n",
        "Run every group of cells in the order specified. You don't need to open any group.\n",
        "\n",
        "**FORMATS SUPPORTED:** `.png`, `.jpg` and `.jpeg`"
      ],
      "metadata": {
        "id": "HjlYMDfu5bT5"
      }
    },
    {
      "cell_type": "markdown",
      "source": [
        "## **1.** Install requirements"
      ],
      "metadata": {
        "id": "sDL8ZRf15kWl"
      }
    },
    {
      "cell_type": "code",
      "execution_count": null,
      "metadata": {
        "id": "tn-B2egGxBB_"
      },
      "outputs": [],
      "source": [
        "!pip3 install rich image-go-nord"
      ]
    },
    {
      "cell_type": "markdown",
      "source": [
        "## **2.** Create folders\n",
        "\n",
        "**IMPORTANT:** Right after you execute this step, upload your images in `/content/input/` (<--- click to open the side view)"
      ],
      "metadata": {
        "id": "pnChCkHUDB6h"
      }
    },
    {
      "cell_type": "code",
      "source": [
        "!mkdir /content/input\n",
        "!mkdir /content/output"
      ],
      "metadata": {
        "id": "36FBuLeExwP7"
      },
      "execution_count": null,
      "outputs": []
    },
    {
      "cell_type": "markdown",
      "source": [
        "## **3.** Generate images\n",
        "\n",
        "After you run this group of cells, you can get your new images at `/content/output/`"
      ],
      "metadata": {
        "id": "50Qnp9DjV1Zl"
      }
    },
    {
      "cell_type": "code",
      "source": [
        "import os\n",
        "from ImageGoNord import GoNord\n",
        "from rich.panel import Panel"
      ],
      "metadata": {
        "id": "pLUZzXMFV_tm"
      },
      "execution_count": null,
      "outputs": []
    },
    {
      "cell_type": "code",
      "source": [
        "input_path = \"/content/input/\"\n",
        "output_path = \"/content/output/\""
      ],
      "metadata": {
        "id": "RdtxeYSaWFxU"
      },
      "execution_count": null,
      "outputs": []
    },
    {
      "cell_type": "code",
      "source": [
        "def main():\n",
        "\n",
        "    cat_factory = GoNord()\n",
        "    cat_factory.reset_palette()\n",
        "    add_cat_palette(cat_factory)\n",
        "\n",
        "    image_paths = getPaths(input_path)\n",
        "\n",
        "    for image_path in image_paths:\n",
        "        process_image(image_path, cat_factory)\n",
        "\n",
        "def add_cat_palette(cat_factory):\n",
        "\n",
        "    catPalette = [\"#F2CDCD\",\"#DDB6F2\",\"#F5C2E7\",\"#E8A2AF\",\"#F28FAD\",\"#F8BD96\",\"#FAE3B0\",\"#ABE9B3\",\"#B5E8E0\",\"#96CDFB\",\"#89DCEB\",\"#161320\",\"#1A1826\",\"#1E1E2E\",\"#302D41\",\"#575268\",\"#6E6C7E\",\"#988BA2\",\"#C3BAC6\",\"#D9E0EE\",\"#C9CBFF\",\"#F5E0DC\"]\n",
        "\n",
        "    for color in catPalette:\n",
        "        cat_factory.add_color_to_palette(color)\n",
        "\n",
        "def getPaths(folder_path):\n",
        "    image_paths = []\n",
        "\n",
        "    for filename in os.listdir(folder_path):\n",
        "        if filename.lower().endswith(('.png', '.jpg', '.jpeg')):\n",
        "            image_paths.append(os.path.join(folder_path, filename))\n",
        "\n",
        "    return image_paths\n",
        "\n",
        "def process_image(image_path, cat_factory):\n",
        "    image = cat_factory.open_image(image_path)\n",
        "\n",
        "    save_path = os.path.join(\n",
        "        output_path, \"cat_\" + os.path.basename(image_path)\n",
        "    )\n",
        "\n",
        "    cat_factory.convert_image(image, save_path=(save_path))\n",
        "\n",
        "if __name__ == \"__main__\":\n",
        "    main()"
      ],
      "metadata": {
        "id": "A6_jMyMkV8L5"
      },
      "execution_count": null,
      "outputs": []
    }
  ]
}